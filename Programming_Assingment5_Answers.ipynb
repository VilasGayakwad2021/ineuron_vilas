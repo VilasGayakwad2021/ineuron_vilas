{
 "cells": [
  {
   "cell_type": "code",
   "execution_count": null,
   "metadata": {},
   "outputs": [],
   "source": [
    "#Write a Python Program to Find LCM?"
   ]
  },
  {
   "cell_type": "code",
   "execution_count": null,
   "metadata": {},
   "outputs": [],
   "source": [
    "a=int(input('Enter first number for LCM : '))\n",
    "b=int(input('Enter second number for LCM: '))\n",
    "if a>b:\n",
    "    greater=a\n",
    "else:\n",
    "    greater=b\n",
    "while(True):\n",
    "    if((greater%a==0) and (greater%b==0)):\n",
    "        lcm=greater\n",
    "        break\n",
    "    greater+=1\n",
    "print(lcm)"
   ]
  },
  {
   "cell_type": "code",
   "execution_count": null,
   "metadata": {},
   "outputs": [],
   "source": [
    "# 2. Write a Python Program to Find HCF?"
   ]
  },
  {
   "cell_type": "code",
   "execution_count": null,
   "metadata": {},
   "outputs": [],
   "source": [
    "x = int(input(\"Enter first number: \"))  \n",
    "y = int(input(\"Enter second number: \"))  \n",
    "if x > y:  \n",
    "    smaller = y  \n",
    "else:  \n",
    "    smaller = x  \n",
    "for i in range(1,smaller + 1):\n",
    "    if((x % i == 0) and (y % i == 0)):  \n",
    "        hcf = i  \n",
    "\n",
    "print(\"The H.C.F. of\", x,\"and\", x,\"is\", hcf)"
   ]
  },
  {
   "cell_type": "code",
   "execution_count": null,
   "metadata": {},
   "outputs": [],
   "source": [
    "#3. Write a Python Program to Convert Decimal to Binary, Octal and Hexadecimal?"
   ]
  },
  {
   "cell_type": "code",
   "execution_count": null,
   "metadata": {},
   "outputs": [],
   "source": [
    "N = int(input(\"Enter an integer value: \"))\n",
    " \n",
    "print(\"The decimal value of\", N, \"is as follow:\")\n",
    "print(\"Binary :\", bin(N))\n",
    "print(\"In octal.: \", oct(N))\n",
    "print(\"Hexadecimal.:\", hex(N))"
   ]
  },
  {
   "cell_type": "code",
   "execution_count": null,
   "metadata": {},
   "outputs": [],
   "source": [
    "#4. Write a Python Program To Find ASCII value of a character?\n"
   ]
  },
  {
   "cell_type": "code",
   "execution_count": null,
   "metadata": {},
   "outputs": [],
   "source": [
    "c = input(\"Enter any character: \")\n",
    "\n",
    "print(\"The ASCII value of char \",c , \" is: \",ord(c))"
   ]
  },
  {
   "cell_type": "code",
   "execution_count": null,
   "metadata": {},
   "outputs": [],
   "source": [
    "#5 5. Write a Python Program to Make a Simple Calculator with 4 basic mathematical operations?"
   ]
  },
  {
   "cell_type": "code",
   "execution_count": null,
   "metadata": {},
   "outputs": [
    {
     "name": "stdout",
     "output_type": "stream",
     "text": [
      "select from below operation to do:\n",
      "1 for Addition\n",
      "2 for Substraction\n",
      "3 for Multiplication\n",
      "4 for Division\n",
      "Enter choice(1/2/3/4): 3\n",
      "Enter first number: 10\n",
      "Enter second number: 20\n",
      "10 * 20 = 200\n",
      "Let's do next calculation? (yes/no): yes\n",
      "Enter choice(1/2/3/4): 4\n",
      "Enter first number: 10\n",
      "Enter second number: 2\n",
      "10 / 2 = 5.0\n",
      "Let's do next calculation? (yes/no): m\n",
      "Enter choice(1/2/3/4): 3\n",
      "Enter first number: 10\n",
      "Enter second number: 0\n",
      "10 * 0 = 0\n"
     ]
    }
   ],
   "source": [
    "def addtion(x,y):\n",
    "    return (x+y)\n",
    "\n",
    "def substraction(x,y):\n",
    "    return (x-y)\n",
    "\n",
    "def multiplication(x,y):\n",
    "    return x*y\n",
    "\n",
    "def division(x,y):\n",
    "    return x/y\n",
    "\n",
    "print(\"select from below operation to do:\")\n",
    "print(\"1 for Addition\")\n",
    "print(\"2 for Substraction\")\n",
    "print(\"3 for Multiplication\")\n",
    "print(\"4 for Division\")\n",
    "\n",
    "while(True):\n",
    "    \n",
    "    choice = input(\"Enter choice(1/2/3/4): \")\n",
    "    \n",
    "    if choice in ('1', '2', '3', '4'):\n",
    "        num1 = int(input(\"Enter first number: \")) \n",
    "        num2 = int(input(\"Enter second number: \"))\n",
    "        \n",
    "        if choice == '1':\n",
    "            print(num1, \"+\", num2, \"=\", addtion(num1, num2))\n",
    "\n",
    "        elif choice == '2':\n",
    "            print(num1, \"-\", num2, \"=\", substraction(num1, num2))\n",
    "\n",
    "        elif choice == '3':\n",
    "            print(num1, \"*\", num2, \"=\", multiplication(num1, num2))\n",
    "\n",
    "        elif choice == '4':\n",
    "            print(num1, \"/\", num2, \"=\", division(num1, num2))\n",
    "            \n",
    "        next_calculation = input(\"Let's do next calculation? (yes/no): \")\n",
    "        if next_calculation == \"no\":\n",
    "            break\n",
    "    else:\n",
    "        print(\"Invalid Input\")"
   ]
  },
  {
   "cell_type": "code",
   "execution_count": null,
   "metadata": {},
   "outputs": [],
   "source": []
  }
 ],
 "metadata": {
  "kernelspec": {
   "display_name": "Python 3",
   "language": "python",
   "name": "python3"
  }
 },
 "nbformat": 4,
 "nbformat_minor": 4
}
